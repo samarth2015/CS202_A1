{
 "cells": [
  {
   "cell_type": "code",
   "execution_count": null,
   "id": "b3bf587c",
   "metadata": {},
   "outputs": [],
   "source": [
    "\n",
    "from pydriller import Repository\n",
    "import csv"
   ]
  },
  {
   "cell_type": "code",
   "execution_count": null,
   "id": "212bfcb4",
   "metadata": {},
   "outputs": [],
   "source": [
    "\n",
    "\n",
    "data = []\n",
    "def is_bug_fix(commit):\n",
    "    # A simple heuristic: check if the commit message contains 'fix' or 'bug'\n",
    "    return 'fix' in commit.msg.lower() or 'bug' in commit.msg.lower()\n",
    "\n",
    "\n",
    "def process_commit(commit):\n",
    "    if is_bug_fix(commit):\n",
    "        commit_data = {\n",
    "            'Hash': commit.hash,\n",
    "            'Message': commit.msg,\n",
    "            'Parent Hashes': commit.parents,\n",
    "            'Is Merge Commit': str(commit.merge),\n",
    "            'Modified Files': ', '.join([file.filename for file in commit.modified_files])\n",
    "        }\n",
    "        data.append(commit_data)\n",
    "\n",
    "for commit in Repository('https://github.com/aboutcode-org/vulnerablecode').traverse_commits():\n",
    "    process_commit(commit)"
   ]
  },
  {
   "cell_type": "code",
   "execution_count": 13,
   "id": "863203ba",
   "metadata": {},
   "outputs": [],
   "source": [
    "# Write the data to a CSV file\n",
    "with open('bug_fixes.csv', 'w', newline='') as csvfile:\n",
    "    fieldnames = ['Hash', 'Message', 'Parent Hashes', 'Is Merge Commit', 'Modified Files']\n",
    "    writer = csv.DictWriter(csvfile, fieldnames=fieldnames)\n",
    "\n",
    "    writer.writeheader()\n",
    "    for row in data:\n",
    "        writer.writerow(row)\n",
    "\n",
    "        "
   ]
  },
  {
   "cell_type": "code",
   "execution_count": 14,
   "id": "e065a87a",
   "metadata": {},
   "outputs": [
    {
     "data": {
      "text/plain": [
       "461"
      ]
     },
     "execution_count": 14,
     "metadata": {},
     "output_type": "execute_result"
    }
   ],
   "source": [
    "len(data)"
   ]
  },
  {
   "cell_type": "code",
   "execution_count": null,
   "id": "e230f609",
   "metadata": {},
   "outputs": [
    {
     "name": "stderr",
     "output_type": "stream",
     "text": [
      "/mnt/C8C09FDBC09FCE56/STT-CSE/stt-cse/lib64/python3.13/site-packages/tqdm/auto.py:21: TqdmWarning: IProgress not found. Please update jupyter and ipywidgets. See https://ipywidgets.readthedocs.io/en/stable/user_install.html\n",
      "  from .autonotebook import tqdm as notebook_tqdm\n"
     ]
    }
   ],
   "source": [
    "\n",
    "from transformers import AutoTokenizer, AutoModelForSeq2SeqLM\n",
    "\n",
    "tokenizer = AutoTokenizer.from_pretrained(\"mamiksik/CommitPredictorT5\")\n",
    "model = AutoModelForSeq2SeqLM.from_pretrained(\"mamiksik/CommitPredictorT5\")\n",
    "\n",
    "\n"
   ]
  },
  {
   "cell_type": "code",
   "execution_count": null,
   "id": "48db3d01",
   "metadata": {},
   "outputs": [],
   "source": [
    "\n",
    "def predict_commit_message(diff):\n",
    "    inputs = tokenizer(diff, return_tensors=\"pt\", max_length=512, truncation=True)\n",
    "    outputs = model.generate(**inputs, max_length=50)\n",
    "    return tokenizer.decode(outputs[0], skip_special_tokens=True)\n",
    "\n",
    "\n",
    "def process(commit, writer):\n",
    "    if is_bug_fix(commit):\n",
    "        for modified_file in commit.modified_files:\n",
    "            diff = modified_file.diff\n",
    "            if len(diff) > 100000:\n",
    "                return\n",
    "            llm_inference = predict_commit_message(diff)\n",
    "            \n",
    "            file_data = {\n",
    "                'Hash': commit.hash,\n",
    "                'Message': commit.msg,\n",
    "                'Filename': modified_file.filename,\n",
    "                'Source Code (before)': modified_file.source_code_before,\n",
    "                'Source Code (current)': modified_file.source_code,\n",
    "                'Diff': diff,\n",
    "                'LLM Inference (fix type)': llm_inference\n",
    "            }\n",
    "            writer.writerow(file_data)\n",
    "           \n"
   ]
  },
  {
   "cell_type": "code",
   "execution_count": null,
   "id": "b0e45408",
   "metadata": {},
   "outputs": [
    {
     "name": "stdout",
     "output_type": "stream",
     "text": [
      "Starting analysis. Writing data to commit_analysis.csv...\n"
     ]
    }
   ],
   "source": [
    "output_csv_file = 'commit_analysis.csv'\n",
    "csv_headers = [\n",
    "    'Hash', 'Message', 'Filename', 'Source Code (before)', 'Source Code (current)', 'Diff', 'LLM Inference (fix type)'\n",
    "]\n",
    "\n",
    "with open(output_csv_file, 'w', newline='', encoding='utf-8') as f:\n",
    "    writer = csv.DictWriter(f, fieldnames=csv_headers)\n",
    "    \n",
    "    writer.writeheader()\n",
    "    \n",
    "    print(f\"Starting analysis. Writing data to {output_csv_file}...\")\n",
    "    \n",
    "    for commit in Repository('https://github.com/aboutcode-org/vulnerablecode').traverse_commits():\n",
    "        process(commit, writer)\n",
    "\n",
    "print(\"Analysis complete.\")"
   ]
  },
  {
   "cell_type": "code",
   "execution_count": null,
   "id": "9bd67e64",
   "metadata": {},
   "outputs": [],
   "source": [
    "count = 0\n",
    "with open('commit_analysis.csv', 'r') as f:\n",
    "    reader = csv.DictReader(f)\n",
    "    for row in reader:\n",
    "        count+=1  # Print each row to verify the output\n",
    "\n",
    "print(f\"Total number of commits processed: {count}\")"
   ]
  }
 ],
 "metadata": {
  "kernelspec": {
   "display_name": "stt-cse",
   "language": "python",
   "name": "python3"
  },
  "language_info": {
   "codemirror_mode": {
    "name": "ipython",
    "version": 3
   },
   "file_extension": ".py",
   "mimetype": "text/x-python",
   "name": "python",
   "nbconvert_exporter": "python",
   "pygments_lexer": "ipython3",
   "version": "3.13.7"
  }
 },
 "nbformat": 4,
 "nbformat_minor": 5
}
